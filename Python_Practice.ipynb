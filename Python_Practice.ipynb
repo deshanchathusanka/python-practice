{
  "nbformat": 4,
  "nbformat_minor": 0,
  "metadata": {
    "colab": {
      "name": "Python_Practice.ipynb",
      "provenance": [],
      "collapsed_sections": [],
      "authorship_tag": "ABX9TyNyWJ62mUDZ0z/aNT+dlg9G",
      "include_colab_link": true
    },
    "kernelspec": {
      "name": "python3",
      "display_name": "Python 3"
    },
    "language_info": {
      "name": "python"
    }
  },
  "cells": [
    {
      "cell_type": "markdown",
      "metadata": {
        "id": "view-in-github",
        "colab_type": "text"
      },
      "source": [
        "<a href=\"https://colab.research.google.com/github/deshanchathusanka/python-practice/blob/main/Python_Practice.ipynb\" target=\"_parent\"><img src=\"https://colab.research.google.com/assets/colab-badge.svg\" alt=\"Open In Colab\"/></a>"
      ]
    },
    {
      "cell_type": "markdown",
      "source": [
        "**Dynamic Multi-dimensional Array**"
      ],
      "metadata": {
        "id": "97eSOrfLx3Yz"
      }
    },
    {
      "cell_type": "code",
      "source": [
        "import numpy as np\n",
        "\n",
        "a = []\n",
        "\n",
        "b = [1,2]\n",
        "c = [3,4]\n",
        "\n",
        "a.append(b)\n",
        "a.append(c)\n",
        "d = np.array(a)\n",
        "\n",
        "print(d.shape)"
      ],
      "metadata": {
        "colab": {
          "base_uri": "https://localhost:8080/"
        },
        "id": "z6S5qHL8x15H",
        "outputId": "bc892e51-483d-4a2b-bea3-54a1c3f15b41"
      },
      "execution_count": 2,
      "outputs": [
        {
          "output_type": "stream",
          "name": "stdout",
          "text": [
            "(2, 2)\n"
          ]
        }
      ]
    },
    {
      "cell_type": "markdown",
      "source": [
        "**Keyword Arguments**"
      ],
      "metadata": {
        "id": "9jDzECGvyGfT"
      }
    },
    {
      "cell_type": "code",
      "source": [
        "def test_kw_args(**kwargs):\n",
        "  print(type(kwargs))\n",
        "\n",
        "test_kw_args(name = \"deshan\", uni = \"Swansea\")"
      ],
      "metadata": {
        "colab": {
          "base_uri": "https://localhost:8080/"
        },
        "id": "FNwnrDscyKxi",
        "outputId": "eda4dff0-6a5f-4a92-f12c-7a5bcc58e029"
      },
      "execution_count": 7,
      "outputs": [
        {
          "output_type": "stream",
          "name": "stdout",
          "text": [
            "<class 'dict'>\n"
          ]
        }
      ]
    }
  ]
}